{
 "cells": [
  {
   "cell_type": "code",
   "execution_count": 1,
   "metadata": {},
   "outputs": [],
   "source": [
    "import pandas as pd\n",
    "from sqlalchemy import create_engine"
   ]
  },
  {
   "cell_type": "code",
   "execution_count": 2,
   "metadata": {},
   "outputs": [],
   "source": [
    "connection_string = \"postgres:postgres@localhost:5432/Energy_db\"\n",
    "engine = create_engine(f'postgresql://{connection_string}')"
   ]
  },
  {
   "cell_type": "code",
   "execution_count": 3,
   "metadata": {},
   "outputs": [
    {
     "data": {
      "text/plain": [
       "['emissions', 'consumption']"
      ]
     },
     "execution_count": 3,
     "metadata": {},
     "output_type": "execute_result"
    }
   ],
   "source": [
    "engine.table_names()"
   ]
  },
  {
   "cell_type": "code",
   "execution_count": 4,
   "metadata": {},
   "outputs": [],
   "source": [
    "new_emissions = pd.read_sql(con=engine, sql=\"SELECT * from emissions\")"
   ]
  },
  {
   "cell_type": "code",
   "execution_count": 5,
   "metadata": {},
   "outputs": [
    {
     "data": {
      "text/html": [
       "<div>\n",
       "<style scoped>\n",
       "    .dataframe tbody tr th:only-of-type {\n",
       "        vertical-align: middle;\n",
       "    }\n",
       "\n",
       "    .dataframe tbody tr th {\n",
       "        vertical-align: top;\n",
       "    }\n",
       "\n",
       "    .dataframe thead th {\n",
       "        text-align: right;\n",
       "    }\n",
       "</style>\n",
       "<table border=\"1\" class=\"dataframe\">\n",
       "  <thead>\n",
       "    <tr style=\"text-align: right;\">\n",
       "      <th></th>\n",
<<<<<<< HEAD
=======
       "      <th>index</th>\n",
>>>>>>> 49464f1d3dc8ccc76419452d2035b4cf76a4f315
       "      <th>country</th>\n",
       "      <th>element</th>\n",
       "      <th>item</th>\n",
       "      <th>year</th>\n",
       "      <th>unit</th>\n",
       "      <th>value</th>\n",
       "    </tr>\n",
       "  </thead>\n",
       "  <tbody>\n",
       "  </tbody>\n",
       "</table>\n",
       "</div>"
      ],
      "text/plain": [
       "Empty DataFrame\n",
<<<<<<< HEAD
       "Columns: [country, element, item, year, unit, value]\n",
=======
       "Columns: [index, country, element, item, year, unit, value]\n",
>>>>>>> 49464f1d3dc8ccc76419452d2035b4cf76a4f315
       "Index: []"
      ]
     },
     "execution_count": 5,
     "metadata": {},
     "output_type": "execute_result"
    }
   ],
   "source": [
    "new_emissions.head()"
   ]
  },
  {
   "cell_type": "code",
   "execution_count": 6,
   "metadata": {},
   "outputs": [
    {
     "data": {
      "text/html": [
       "<div>\n",
       "<style scoped>\n",
       "    .dataframe tbody tr th:only-of-type {\n",
       "        vertical-align: middle;\n",
       "    }\n",
       "\n",
       "    .dataframe tbody tr th {\n",
       "        vertical-align: top;\n",
       "    }\n",
       "\n",
       "    .dataframe thead th {\n",
       "        text-align: right;\n",
       "    }\n",
       "</style>\n",
       "<table border=\"1\" class=\"dataframe\">\n",
       "  <thead>\n",
       "    <tr style=\"text-align: right;\">\n",
       "      <th></th>\n",
       "      <th>country</th>\n",
       "      <th>year</th>\n",
       "      <th>oil_terrawatt_hours</th>\n",
       "      <th>coal_terrawatt_hours</th>\n",
       "      <th>gas_terrawatt_hours</th>\n",
       "      <th>hydropower_terrawatt_hours</th>\n",
       "      <th>nuclear_terrawatt_hours</th>\n",
       "      <th>solar_terrawatt_hours</th>\n",
       "      <th>wind_terrawatt_hours</th>\n",
       "      <th>other_renewables_terawatt_hours</th>\n",
       "    </tr>\n",
       "  </thead>\n",
       "  <tbody>\n",
<<<<<<< HEAD
       "    <tr>\n",
       "      <td>0</td>\n",
       "      <td>Algeria</td>\n",
       "      <td>1965</td>\n",
       "      <td>15.405252</td>\n",
       "      <td>0.81410</td>\n",
       "      <td>7.430500</td>\n",
       "      <td>1.03507</td>\n",
       "      <td>NaN</td>\n",
       "      <td>NaN</td>\n",
       "      <td>NaN</td>\n",
       "      <td>NaN</td>\n",
       "    </tr>\n",
       "    <tr>\n",
       "      <td>1</td>\n",
       "      <td>Algeria</td>\n",
       "      <td>1966</td>\n",
       "      <td>20.272705</td>\n",
       "      <td>0.79084</td>\n",
       "      <td>7.719250</td>\n",
       "      <td>0.95366</td>\n",
       "      <td>NaN</td>\n",
       "      <td>NaN</td>\n",
       "      <td>NaN</td>\n",
       "      <td>NaN</td>\n",
       "    </tr>\n",
       "    <tr>\n",
       "      <td>2</td>\n",
       "      <td>Algeria</td>\n",
       "      <td>1967</td>\n",
       "      <td>18.942031</td>\n",
       "      <td>0.60476</td>\n",
       "      <td>7.488250</td>\n",
       "      <td>1.06996</td>\n",
       "      <td>NaN</td>\n",
       "      <td>NaN</td>\n",
       "      <td>NaN</td>\n",
       "      <td>NaN</td>\n",
       "    </tr>\n",
       "    <tr>\n",
       "      <td>3</td>\n",
       "      <td>Algeria</td>\n",
       "      <td>1968</td>\n",
       "      <td>20.167301</td>\n",
       "      <td>0.63965</td>\n",
       "      <td>7.873250</td>\n",
       "      <td>1.46538</td>\n",
       "      <td>NaN</td>\n",
       "      <td>NaN</td>\n",
       "      <td>NaN</td>\n",
       "      <td>NaN</td>\n",
       "    </tr>\n",
       "    <tr>\n",
       "      <td>4</td>\n",
       "      <td>Algeria</td>\n",
       "      <td>1969</td>\n",
       "      <td>21.305930</td>\n",
       "      <td>0.81410</td>\n",
       "      <td>10.351688</td>\n",
       "      <td>0.95366</td>\n",
       "      <td>NaN</td>\n",
       "      <td>NaN</td>\n",
       "      <td>NaN</td>\n",
       "      <td>NaN</td>\n",
       "    </tr>\n",
=======
>>>>>>> 49464f1d3dc8ccc76419452d2035b4cf76a4f315
       "  </tbody>\n",
       "</table>\n",
       "</div>"
      ],
      "text/plain": [
<<<<<<< HEAD
       "   country  year  oil_terrawatt_hours  coal_terrawatt_hours  \\\n",
       "0  Algeria  1965            15.405252               0.81410   \n",
       "1  Algeria  1966            20.272705               0.79084   \n",
       "2  Algeria  1967            18.942031               0.60476   \n",
       "3  Algeria  1968            20.167301               0.63965   \n",
       "4  Algeria  1969            21.305930               0.81410   \n",
       "\n",
       "   gas_terrawatt_hours  hydropower_terrawatt_hours  nuclear_terrawatt_hours  \\\n",
       "0             7.430500                     1.03507                      NaN   \n",
       "1             7.719250                     0.95366                      NaN   \n",
       "2             7.488250                     1.06996                      NaN   \n",
       "3             7.873250                     1.46538                      NaN   \n",
       "4            10.351688                     0.95366                      NaN   \n",
       "\n",
       "   solar_terrawatt_hours  wind_terrawatt_hours  \\\n",
       "0                    NaN                   NaN   \n",
       "1                    NaN                   NaN   \n",
       "2                    NaN                   NaN   \n",
       "3                    NaN                   NaN   \n",
       "4                    NaN                   NaN   \n",
       "\n",
       "   other_renewables_terawatt_hours  \n",
       "0                              NaN  \n",
       "1                              NaN  \n",
       "2                              NaN  \n",
       "3                              NaN  \n",
       "4                              NaN  "
=======
       "Empty DataFrame\n",
       "Columns: [country, year, oil_terrawatt_hours, coal_terrawatt_hours, gas_terrawatt_hours, hydropower_terrawatt_hours, nuclear_terrawatt_hours, solar_terrawatt_hours, wind_terrawatt_hours, other_renewables_terawatt_hours]\n",
       "Index: []"
>>>>>>> 49464f1d3dc8ccc76419452d2035b4cf76a4f315
      ]
     },
     "execution_count": 6,
     "metadata": {},
     "output_type": "execute_result"
    }
   ],
   "source": [
    "new_consumption = pd.read_sql(con=engine, sql=\"SELECT * from consumption\")\n",
    "new_consumption.head()"
   ]
  },
  {
   "cell_type": "code",
<<<<<<< HEAD
   "execution_count": 7,
   "metadata": {},
   "outputs": [
    {
     "data": {
      "text/plain": [
       "country    object\n",
       "element    object\n",
       "item       object\n",
       "year       object\n",
       "unit       object\n",
       "value      object\n",
       "dtype: object"
      ]
     },
     "execution_count": 7,
     "metadata": {},
     "output_type": "execute_result"
    }
   ],
=======
   "execution_count": null,
   "metadata": {},
   "outputs": [],
>>>>>>> 49464f1d3dc8ccc76419452d2035b4cf76a4f315
   "source": [
    "new_emissions.dtypes"
   ]
  },
  {
   "cell_type": "code",
<<<<<<< HEAD
   "execution_count": 8,
   "metadata": {},
   "outputs": [
    {
     "data": {
      "text/plain": [
       "country                             object\n",
       "year                                 int64\n",
       "oil_terrawatt_hours                float64\n",
       "coal_terrawatt_hours               float64\n",
       "gas_terrawatt_hours                float64\n",
       "hydropower_terrawatt_hours         float64\n",
       "nuclear_terrawatt_hours            float64\n",
       "solar_terrawatt_hours              float64\n",
       "wind_terrawatt_hours               float64\n",
       "other_renewables_terawatt_hours    float64\n",
       "dtype: object"
      ]
     },
     "execution_count": 8,
     "metadata": {},
     "output_type": "execute_result"
    }
   ],
=======
   "execution_count": null,
   "metadata": {},
   "outputs": [],
>>>>>>> 49464f1d3dc8ccc76419452d2035b4cf76a4f315
   "source": [
    "new_consumption.dtypes"
   ]
  },
  {
   "cell_type": "code",
   "execution_count": null,
   "metadata": {},
   "outputs": [],
   "source": []
  }
 ],
 "metadata": {
  "kernelspec": {
   "display_name": "Python 3",
   "language": "python",
   "name": "python3"
  },
  "language_info": {
   "codemirror_mode": {
    "name": "ipython",
    "version": 3
   },
   "file_extension": ".py",
   "mimetype": "text/x-python",
   "name": "python",
   "nbconvert_exporter": "python",
   "pygments_lexer": "ipython3",
   "version": "3.7.4"
  }
 },
 "nbformat": 4,
 "nbformat_minor": 2
}
