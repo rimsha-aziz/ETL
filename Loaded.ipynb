{
 "cells": [
  {
   "cell_type": "code",
   "execution_count": 36,
   "metadata": {},
   "outputs": [],
   "source": [
    "import pandas as pd\n",
    "from sqlalchemy import create_engine"
   ]
  },
  {
   "cell_type": "code",
   "execution_count": 37,
   "metadata": {},
   "outputs": [],
   "source": [
    "connection_string = \"postgres:postgres@localhost:5432/Energy_db\"\n",
    "engine = create_engine(f'postgresql://{connection_string}')"
   ]
  },
  {
   "cell_type": "code",
   "execution_count": 38,
   "metadata": {},
   "outputs": [
    {
     "data": {
      "text/plain": [
       "['emissions', 'consumption']"
      ]
     },
     "execution_count": 38,
     "metadata": {},
     "output_type": "execute_result"
    }
   ],
   "source": [
    "engine.table_names()"
   ]
  },
  {
   "cell_type": "code",
   "execution_count": 44,
   "metadata": {},
   "outputs": [],
   "source": [
    "new_emissions = pd.read_sql(con=engine, sql=\"SELECT * from emissions\")"
   ]
  },
  {
   "cell_type": "code",
   "execution_count": 45,
   "metadata": {},
   "outputs": [
    {
     "data": {
      "text/html": [
       "<div>\n",
       "<style scoped>\n",
       "    .dataframe tbody tr th:only-of-type {\n",
       "        vertical-align: middle;\n",
       "    }\n",
       "\n",
       "    .dataframe tbody tr th {\n",
       "        vertical-align: top;\n",
       "    }\n",
       "\n",
       "    .dataframe thead th {\n",
       "        text-align: right;\n",
       "    }\n",
       "</style>\n",
       "<table border=\"1\" class=\"dataframe\">\n",
       "  <thead>\n",
       "    <tr style=\"text-align: right;\">\n",
       "      <th></th>\n",
       "      <th>index</th>\n",
       "      <th>Country</th>\n",
       "      <th>Element</th>\n",
       "      <th>Item</th>\n",
       "      <th>Year</th>\n",
       "      <th>Unit</th>\n",
       "      <th>Value</th>\n",
       "    </tr>\n",
       "  </thead>\n",
       "  <tbody>\n",
       "    <tr>\n",
       "      <td>0</td>\n",
       "      <td>0</td>\n",
       "      <td>Afghanistan</td>\n",
       "      <td>Emissions (CO2eq) from CH4 (Energy)</td>\n",
       "      <td>Electricity</td>\n",
       "      <td>1970</td>\n",
       "      <td>gigagrams</td>\n",
       "      <td>0.3024</td>\n",
       "    </tr>\n",
       "    <tr>\n",
       "      <td>1</td>\n",
       "      <td>1</td>\n",
       "      <td>Afghanistan</td>\n",
       "      <td>Emissions (CO2eq) from CH4 (Energy)</td>\n",
       "      <td>Electricity</td>\n",
       "      <td>1971</td>\n",
       "      <td>gigagrams</td>\n",
       "      <td>0.3276</td>\n",
       "    </tr>\n",
       "    <tr>\n",
       "      <td>2</td>\n",
       "      <td>2</td>\n",
       "      <td>Afghanistan</td>\n",
       "      <td>Emissions (CO2eq) from CH4 (Energy)</td>\n",
       "      <td>Electricity</td>\n",
       "      <td>1972</td>\n",
       "      <td>gigagrams</td>\n",
       "      <td>0.4032</td>\n",
       "    </tr>\n",
       "    <tr>\n",
       "      <td>3</td>\n",
       "      <td>3</td>\n",
       "      <td>Afghanistan</td>\n",
       "      <td>Emissions (CO2eq) from CH4 (Energy)</td>\n",
       "      <td>Electricity</td>\n",
       "      <td>1973</td>\n",
       "      <td>gigagrams</td>\n",
       "      <td>0.4032</td>\n",
       "    </tr>\n",
       "    <tr>\n",
       "      <td>4</td>\n",
       "      <td>4</td>\n",
       "      <td>Afghanistan</td>\n",
       "      <td>Emissions (CO2eq) from CH4 (Energy)</td>\n",
       "      <td>Electricity</td>\n",
       "      <td>1974</td>\n",
       "      <td>gigagrams</td>\n",
       "      <td>0.4788</td>\n",
       "    </tr>\n",
       "  </tbody>\n",
       "</table>\n",
       "</div>"
      ],
      "text/plain": [
       "   index      Country                              Element         Item  Year  \\\n",
       "0      0  Afghanistan  Emissions (CO2eq) from CH4 (Energy)  Electricity  1970   \n",
       "1      1  Afghanistan  Emissions (CO2eq) from CH4 (Energy)  Electricity  1971   \n",
       "2      2  Afghanistan  Emissions (CO2eq) from CH4 (Energy)  Electricity  1972   \n",
       "3      3  Afghanistan  Emissions (CO2eq) from CH4 (Energy)  Electricity  1973   \n",
       "4      4  Afghanistan  Emissions (CO2eq) from CH4 (Energy)  Electricity  1974   \n",
       "\n",
       "        Unit   Value  \n",
       "0  gigagrams  0.3024  \n",
       "1  gigagrams  0.3276  \n",
       "2  gigagrams  0.4032  \n",
       "3  gigagrams  0.4032  \n",
       "4  gigagrams  0.4788  "
      ]
     },
     "execution_count": 45,
     "metadata": {},
     "output_type": "execute_result"
    }
   ],
   "source": [
    "new_emissions.head()"
   ]
  },
  {
   "cell_type": "code",
   "execution_count": 41,
   "metadata": {},
   "outputs": [
    {
     "data": {
      "text/html": [
       "<div>\n",
       "<style scoped>\n",
       "    .dataframe tbody tr th:only-of-type {\n",
       "        vertical-align: middle;\n",
       "    }\n",
       "\n",
       "    .dataframe tbody tr th {\n",
       "        vertical-align: top;\n",
       "    }\n",
       "\n",
       "    .dataframe thead th {\n",
       "        text-align: right;\n",
       "    }\n",
       "</style>\n",
       "<table border=\"1\" class=\"dataframe\">\n",
       "  <thead>\n",
       "    <tr style=\"text-align: right;\">\n",
       "      <th></th>\n",
       "      <th>index</th>\n",
       "      <th>Country</th>\n",
       "      <th>Year</th>\n",
       "      <th>Oil_terrawatt_hours</th>\n",
       "      <th>Coal_terrawatt_hours</th>\n",
       "      <th>Gas_terrawatt_hours</th>\n",
       "      <th>Hydropower_terrawatt_hours</th>\n",
       "      <th>Nuclear_terrawatt_hours</th>\n",
       "      <th>Solar_terrawatt_hours</th>\n",
       "      <th>Wind_terrawatt_hours</th>\n",
       "      <th>Other_renewables_terrawatt_hours</th>\n",
       "    </tr>\n",
       "  </thead>\n",
       "  <tbody>\n",
       "    <tr>\n",
       "      <td>0</td>\n",
       "      <td>54</td>\n",
       "      <td>Algeria</td>\n",
       "      <td>1965</td>\n",
       "      <td>15.405252</td>\n",
       "      <td>0.81410</td>\n",
       "      <td>7.430500</td>\n",
       "      <td>1.03507</td>\n",
       "      <td>NaN</td>\n",
       "      <td>NaN</td>\n",
       "      <td>NaN</td>\n",
       "      <td>NaN</td>\n",
       "    </tr>\n",
       "    <tr>\n",
       "      <td>1</td>\n",
       "      <td>55</td>\n",
       "      <td>Algeria</td>\n",
       "      <td>1966</td>\n",
       "      <td>20.272705</td>\n",
       "      <td>0.79084</td>\n",
       "      <td>7.719250</td>\n",
       "      <td>0.95366</td>\n",
       "      <td>NaN</td>\n",
       "      <td>NaN</td>\n",
       "      <td>NaN</td>\n",
       "      <td>NaN</td>\n",
       "    </tr>\n",
       "    <tr>\n",
       "      <td>2</td>\n",
       "      <td>56</td>\n",
       "      <td>Algeria</td>\n",
       "      <td>1967</td>\n",
       "      <td>18.942031</td>\n",
       "      <td>0.60476</td>\n",
       "      <td>7.488250</td>\n",
       "      <td>1.06996</td>\n",
       "      <td>NaN</td>\n",
       "      <td>NaN</td>\n",
       "      <td>NaN</td>\n",
       "      <td>NaN</td>\n",
       "    </tr>\n",
       "    <tr>\n",
       "      <td>3</td>\n",
       "      <td>57</td>\n",
       "      <td>Algeria</td>\n",
       "      <td>1968</td>\n",
       "      <td>20.167301</td>\n",
       "      <td>0.63965</td>\n",
       "      <td>7.873250</td>\n",
       "      <td>1.46538</td>\n",
       "      <td>NaN</td>\n",
       "      <td>NaN</td>\n",
       "      <td>NaN</td>\n",
       "      <td>NaN</td>\n",
       "    </tr>\n",
       "    <tr>\n",
       "      <td>4</td>\n",
       "      <td>58</td>\n",
       "      <td>Algeria</td>\n",
       "      <td>1969</td>\n",
       "      <td>21.305930</td>\n",
       "      <td>0.81410</td>\n",
       "      <td>10.351688</td>\n",
       "      <td>0.95366</td>\n",
       "      <td>NaN</td>\n",
       "      <td>NaN</td>\n",
       "      <td>NaN</td>\n",
       "      <td>NaN</td>\n",
       "    </tr>\n",
       "  </tbody>\n",
       "</table>\n",
       "</div>"
      ],
      "text/plain": [
       "   index  Country  Year  Oil_terrawatt_hours  Coal_terrawatt_hours  \\\n",
       "0     54  Algeria  1965            15.405252               0.81410   \n",
       "1     55  Algeria  1966            20.272705               0.79084   \n",
       "2     56  Algeria  1967            18.942031               0.60476   \n",
       "3     57  Algeria  1968            20.167301               0.63965   \n",
       "4     58  Algeria  1969            21.305930               0.81410   \n",
       "\n",
       "   Gas_terrawatt_hours  Hydropower_terrawatt_hours  Nuclear_terrawatt_hours  \\\n",
       "0             7.430500                     1.03507                      NaN   \n",
       "1             7.719250                     0.95366                      NaN   \n",
       "2             7.488250                     1.06996                      NaN   \n",
       "3             7.873250                     1.46538                      NaN   \n",
       "4            10.351688                     0.95366                      NaN   \n",
       "\n",
       "   Solar_terrawatt_hours  Wind_terrawatt_hours  \\\n",
       "0                    NaN                   NaN   \n",
       "1                    NaN                   NaN   \n",
       "2                    NaN                   NaN   \n",
       "3                    NaN                   NaN   \n",
       "4                    NaN                   NaN   \n",
       "\n",
       "   Other_renewables_terrawatt_hours  \n",
       "0                               NaN  \n",
       "1                               NaN  \n",
       "2                               NaN  \n",
       "3                               NaN  \n",
       "4                               NaN  "
      ]
     },
     "execution_count": 41,
     "metadata": {},
     "output_type": "execute_result"
    }
   ],
   "source": [
    "new_consumption = pd.read_sql(con=engine, sql=\"SELECT * from consumption\")\n",
    "new_consumption.head()"
   ]
  },
  {
   "cell_type": "code",
   "execution_count": 42,
   "metadata": {},
   "outputs": [
    {
     "data": {
      "text/plain": [
       "country    object\n",
       "element    object\n",
       "item       object\n",
       "year       object\n",
       "unit       object\n",
       "value      object\n",
       "dtype: object"
      ]
     },
     "execution_count": 42,
     "metadata": {},
     "output_type": "execute_result"
    }
   ],
   "source": [
    "new_emissions.dtypes"
   ]
  },
  {
   "cell_type": "code",
   "execution_count": 43,
   "metadata": {},
   "outputs": [
    {
     "data": {
      "text/plain": [
       "index                                 int64\n",
       "Country                              object\n",
       "Year                                  int64\n",
       "Oil_terrawatt_hours                 float64\n",
       "Coal_terrawatt_hours                float64\n",
       "Gas_terrawatt_hours                 float64\n",
       "Hydropower_terrawatt_hours          float64\n",
       "Nuclear_terrawatt_hours             float64\n",
       "Solar_terrawatt_hours               float64\n",
       "Wind_terrawatt_hours                float64\n",
       "Other_renewables_terrawatt_hours    float64\n",
       "dtype: object"
      ]
     },
     "execution_count": 43,
     "metadata": {},
     "output_type": "execute_result"
    }
   ],
   "source": [
    "new_consumption.dtypes"
   ]
  },
  {
   "cell_type": "code",
   "execution_count": null,
   "metadata": {},
   "outputs": [],
   "source": []
  }
 ],
 "metadata": {
  "kernelspec": {
   "display_name": "Python 3",
   "language": "python",
   "name": "python3"
  },
  "language_info": {
   "codemirror_mode": {
    "name": "ipython",
    "version": 3
   },
   "file_extension": ".py",
   "mimetype": "text/x-python",
   "name": "python",
   "nbconvert_exporter": "python",
   "pygments_lexer": "ipython3",
   "version": "3.7.4"
  }
 },
 "nbformat": 4,
 "nbformat_minor": 2
}
